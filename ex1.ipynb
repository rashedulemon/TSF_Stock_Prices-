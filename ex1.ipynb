{
 "cells": [
  {
   "cell_type": "code",
   "execution_count": 6,
   "id": "19d463d1",
   "metadata": {},
   "outputs": [],
   "source": [
    "import datetime\n",
    "import yfinance as yf\n",
    "start_date = datetime.datetime(2020, 10, 1)\n",
    "end_date = datetime.datetime(2025, 9, 1)\n",
    "meta = yf.Ticker(\"AAPL\")\n",
    "data = meta.history(start=start_date, end=end_date)"
   ]
  },
  {
   "cell_type": "code",
   "execution_count": 7,
   "id": "d628224e",
   "metadata": {},
   "outputs": [
    {
     "name": "stdout",
     "output_type": "stream",
     "text": [
      "Data exported to AAPL_stock_data.csv\n",
      "File saved with 1234 rows and 7 columns\n"
     ]
    }
   ],
   "source": [
    "# Export data to CSV file\n",
    "csv_filename = \"AAPL_stock_data.csv\"\n",
    "data.to_csv(csv_filename)\n",
    "print(f\"Data exported to {csv_filename}\")\n",
    "print(f\"File saved with {len(data)} rows and {len(data.columns)} columns\")"
   ]
  }
 ],
 "metadata": {
  "kernelspec": {
   "display_name": "Python 3",
   "language": "python",
   "name": "python3"
  },
  "language_info": {
   "codemirror_mode": {
    "name": "ipython",
    "version": 3
   },
   "file_extension": ".py",
   "mimetype": "text/x-python",
   "name": "python",
   "nbconvert_exporter": "python",
   "pygments_lexer": "ipython3",
   "version": "3.12.0"
  }
 },
 "nbformat": 4,
 "nbformat_minor": 5
}
